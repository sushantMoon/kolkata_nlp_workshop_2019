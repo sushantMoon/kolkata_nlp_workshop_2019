{
 "cells": [
  {
   "cell_type": "code",
   "execution_count": 1,
   "metadata": {},
   "outputs": [],
   "source": [
    "import pandas as pd\n",
    "import numpy as np\n",
    "from sklearn.feature_extraction.text import CountVectorizer\n",
    "from sklearn.metrics import classification_report, accuracy_score\n",
    "from sklearn.naive_bayes import MultinomialNB, BernoulliNB\n",
    "from string import digits"
   ]
  },
  {
   "cell_type": "markdown",
   "metadata": {},
   "source": [
    "## Reading in the train and validation set"
   ]
  },
  {
   "cell_type": "code",
   "execution_count": 2,
   "metadata": {},
   "outputs": [],
   "source": [
    "train = pd.read_csv('data/train.csv')\n",
    "valid = pd.read_csv('data/valid.csv')"
   ]
  },
  {
   "cell_type": "markdown",
   "metadata": {},
   "source": [
    "## Removing digits for the text"
   ]
  },
  {
   "cell_type": "code",
   "execution_count": 3,
   "metadata": {},
   "outputs": [],
   "source": [
    "def remove_digits(s: str) -> str:\n",
    "    remove_digits = str.maketrans('', '', digits)\n",
    "    res = s.translate(remove_digits)\n",
    "    return res"
   ]
  },
  {
   "cell_type": "code",
   "execution_count": 4,
   "metadata": {},
   "outputs": [],
   "source": [
    "train['text'] = train['text'].apply(remove_digits)\n",
    "valid['text'] = valid['text'].apply(remove_digits)"
   ]
  },
  {
   "cell_type": "markdown",
   "metadata": {},
   "source": [
    "## Bag of words representation (binary)"
   ]
  },
  {
   "cell_type": "code",
   "execution_count": 5,
   "metadata": {},
   "outputs": [],
   "source": [
    "vectorizer = CountVectorizer(stop_words=None, lowercase=True,\n",
    "                             ngram_range=(1, 1), min_df=2, binary=True)\n",
    "\n",
    "train_features = vectorizer.fit_transform(train['text'])\n",
    "train_labels = train['class']\n",
    "\n",
    "valid_features = vectorizer.transform(valid['text'])\n",
    "valid_labels = valid['class']"
   ]
  },
  {
   "cell_type": "markdown",
   "metadata": {},
   "source": [
    "## Bernoulli Naive Bayes model"
   ]
  },
  {
   "cell_type": "code",
   "execution_count": 6,
   "metadata": {},
   "outputs": [
    {
     "name": "stdout",
     "output_type": "stream",
     "text": [
      "              precision    recall  f1-score   support\n",
      "\n",
      "    negative       0.73      0.75      0.74       403\n",
      "    positive       0.86      0.84      0.85       739\n",
      "\n",
      "   micro avg       0.81      0.81      0.81      1142\n",
      "   macro avg       0.79      0.80      0.80      1142\n",
      "weighted avg       0.81      0.81      0.81      1142\n",
      "\n",
      "Accuracy:0.8126094570928196\n"
     ]
    }
   ],
   "source": [
    "model = BernoulliNB(fit_prior=True)\n",
    "model.fit(train_features, train_labels)\n",
    "\n",
    "valid_preds = model.predict(valid_features)\n",
    "print(classification_report(valid_labels, valid_preds))\n",
    "print(f'Accuracy:{accuracy_score(valid_labels, valid_preds)}')"
   ]
  },
  {
   "cell_type": "markdown",
   "metadata": {},
   "source": [
    "# Can we do better ?"
   ]
  },
  {
   "cell_type": "markdown",
   "metadata": {},
   "source": [
    "## Bag of words representation (count)"
   ]
  },
  {
   "cell_type": "code",
   "execution_count": 7,
   "metadata": {},
   "outputs": [],
   "source": [
    "vectorizer = CountVectorizer(stop_words=None, lowercase=True,\n",
    "                             ngram_range=(1, 1), min_df=2)\n",
    "\n",
    "train_features = vectorizer.fit_transform(train['text'])\n",
    "train_labels = train['class']\n",
    "\n",
    "valid_features = vectorizer.transform(valid['text'])\n",
    "valid_labels = valid['class']"
   ]
  },
  {
   "cell_type": "markdown",
   "metadata": {},
   "source": [
    "## Multinomial Naive Bayes model"
   ]
  },
  {
   "cell_type": "code",
   "execution_count": 8,
   "metadata": {},
   "outputs": [
    {
     "name": "stdout",
     "output_type": "stream",
     "text": [
      "              precision    recall  f1-score   support\n",
      "\n",
      "    negative       0.76      0.74      0.75       403\n",
      "    positive       0.86      0.87      0.87       739\n",
      "\n",
      "   micro avg       0.83      0.83      0.83      1142\n",
      "   macro avg       0.81      0.81      0.81      1142\n",
      "weighted avg       0.82      0.83      0.83      1142\n",
      "\n",
      "Accuracy: 0.8257443082311734\n"
     ]
    }
   ],
   "source": [
    "model = MultinomialNB(fit_prior=True)\n",
    "model.fit(train_features, train_labels)\n",
    "\n",
    "valid_preds = model.predict(valid_features)\n",
    "print(classification_report(valid_labels, valid_preds))\n",
    "print(f'Accuracy: {accuracy_score(valid_labels, valid_preds)}')"
   ]
  },
  {
   "cell_type": "markdown",
   "metadata": {},
   "source": [
    "## Obtaining performance on our test set"
   ]
  },
  {
   "cell_type": "code",
   "execution_count": 9,
   "metadata": {},
   "outputs": [],
   "source": [
    "test = pd.read_csv('data/test.csv')"
   ]
  },
  {
   "cell_type": "code",
   "execution_count": 10,
   "metadata": {},
   "outputs": [],
   "source": [
    "test['text'] = test['text'].apply(remove_digits)"
   ]
  },
  {
   "cell_type": "code",
   "execution_count": 11,
   "metadata": {},
   "outputs": [],
   "source": [
    "test_features = vectorizer.transform(test['text'])\n",
    "test_labels = test['class']"
   ]
  },
  {
   "cell_type": "code",
   "execution_count": 12,
   "metadata": {},
   "outputs": [
    {
     "name": "stdout",
     "output_type": "stream",
     "text": [
      "              precision    recall  f1-score   support\n",
      "\n",
      "    negative       0.72      0.69      0.71       394\n",
      "    positive       0.84      0.86      0.85       747\n",
      "\n",
      "   micro avg       0.80      0.80      0.80      1141\n",
      "   macro avg       0.78      0.77      0.78      1141\n",
      "weighted avg       0.80      0.80      0.80      1141\n",
      "\n",
      "Accuracy: 0.8019281332164768\n"
     ]
    }
   ],
   "source": [
    "test_preds = model.predict(test_features)\n",
    "print(classification_report(test_labels, test_preds))\n",
    "print(f'Accuracy: {accuracy_score(test_labels, test_preds)}')"
   ]
  },
  {
   "cell_type": "markdown",
   "metadata": {},
   "source": [
    "## Training on train + valid"
   ]
  },
  {
   "cell_type": "code",
   "execution_count": 13,
   "metadata": {},
   "outputs": [],
   "source": [
    "data = pd.concat((train, valid), axis=0)\n",
    "vectorizer = CountVectorizer(stop_words=None, lowercase=True,\n",
    "                             ngram_range=(1, 1), min_df=2)\n",
    "\n",
    "features = vectorizer.fit_transform(data['text'])\n",
    "labels = data['class']\n",
    "\n",
    "test_features = vectorizer.transform(test['text'])\n",
    "test_labels = test['class']"
   ]
  },
  {
   "cell_type": "code",
   "execution_count": 14,
   "metadata": {},
   "outputs": [
    {
     "name": "stdout",
     "output_type": "stream",
     "text": [
      "              precision    recall  f1-score   support\n",
      "\n",
      "    negative       0.73      0.69      0.71       394\n",
      "    positive       0.84      0.86      0.85       747\n",
      "\n",
      "   micro avg       0.80      0.80      0.80      1141\n",
      "   macro avg       0.79      0.78      0.78      1141\n",
      "weighted avg       0.80      0.80      0.80      1141\n",
      "\n",
      "Accuracy: 0.8045574057843996\n"
     ]
    }
   ],
   "source": [
    "model = MultinomialNB(fit_prior=True)\n",
    "model.fit(features, labels)\n",
    "\n",
    "test_preds = model.predict(test_features)\n",
    "print(classification_report(test_labels, test_preds))\n",
    "print(f'Accuracy: {accuracy_score(test_labels, test_preds)}')"
   ]
  },
  {
   "cell_type": "markdown",
   "metadata": {},
   "source": [
    "## Saving our trained model"
   ]
  },
  {
   "cell_type": "code",
   "execution_count": 15,
   "metadata": {},
   "outputs": [],
   "source": [
    "from sklearn.pipeline import Pipeline\n",
    "from sklearn.externals import joblib"
   ]
  },
  {
   "cell_type": "code",
   "execution_count": 16,
   "metadata": {},
   "outputs": [],
   "source": [
    "model = Pipeline([('feature_transformer', vectorizer),\n",
    "                  ('classifier', model)])"
   ]
  },
  {
   "cell_type": "code",
   "execution_count": 17,
   "metadata": {},
   "outputs": [
    {
     "data": {
      "text/plain": [
       "['data/model.pkl']"
      ]
     },
     "execution_count": 17,
     "metadata": {},
     "output_type": "execute_result"
    }
   ],
   "source": [
    "joblib.dump(model, 'data/model.pkl')"
   ]
  },
  {
   "cell_type": "code",
   "execution_count": 18,
   "metadata": {},
   "outputs": [
    {
     "data": {
      "text/plain": [
       "Pipeline(memory=None,\n",
       "     steps=[('feature_transformer', CountVectorizer(analyzer='word', binary=False, decode_error='strict',\n",
       "        dtype=<class 'numpy.int64'>, encoding='utf-8', input='content',\n",
       "        lowercase=True, max_df=1.0, max_features=None, min_df=2,\n",
       "        ngram_range=(1, 1), preprocessor=None, stop_words=None,\n",
       "        strip_accents=None, token_pattern='(?u)\\\\b\\\\w\\\\w+\\\\b',\n",
       "        tokenizer=None, vocabulary=None)), ('classifier', MultinomialNB(alpha=1.0, class_prior=None, fit_prior=True))])"
      ]
     },
     "execution_count": 18,
     "metadata": {},
     "output_type": "execute_result"
    }
   ],
   "source": [
    "joblib.load('data/model.pkl')"
   ]
  }
 ],
 "metadata": {
  "kernelspec": {
   "display_name": "Python 3",
   "language": "python",
   "name": "python3"
  },
  "language_info": {
   "codemirror_mode": {
    "name": "ipython",
    "version": 3
   },
   "file_extension": ".py",
   "mimetype": "text/x-python",
   "name": "python",
   "nbconvert_exporter": "python",
   "pygments_lexer": "ipython3",
   "version": "3.6.4"
  }
 },
 "nbformat": 4,
 "nbformat_minor": 2
}
