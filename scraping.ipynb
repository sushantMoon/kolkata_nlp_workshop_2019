{
 "cells": [
  {
   "cell_type": "code",
   "execution_count": 3,
   "metadata": {},
   "outputs": [],
   "source": [
    "import requests\n",
    "from bs4 import BeautifulSoup\n",
    "import pandas as pd\n",
    "from tqdm import tqdm"
   ]
  },
  {
   "cell_type": "markdown",
   "metadata": {},
   "source": [
    "## Preparing a list of URLs to scrape"
   ]
  },
  {
   "cell_type": "code",
   "execution_count": 5,
   "metadata": {},
   "outputs": [],
   "source": [
    "root_url = 'https://www.zomato.com/kolkata/dinner'"
   ]
  },
  {
   "cell_type": "code",
   "execution_count": 6,
   "metadata": {},
   "outputs": [],
   "source": [
    "# Lying to the server so that we can scrape without consequences\n",
    "headers = {'user-agent':'Mozilla/5.0 (Macintosh; Intel Mac OS X 10_14_2) AppleWebKit/537.36 \\\n",
    "(KHTML, like Gecko) Chrome/71.0.3578.98 Safari/537.36'}\n",
    "\n",
    "Host: www.zomato.com\n",
    "User-Agent: Mozilla/5.0 (Windows NT 10.0; Win64; x64; rv:64.0) Gecko/20100101 Firefox/64.0\n",
    "Accept: text/html,application/xhtml+xml,application/xml;q=0.9,*/*;q=0.8\n",
    "Accept-Language: en-US,en;q=0.5\n",
    "Accept-Encoding: gzip, deflate, br\n",
    "Referer: https://www.zomato.com/\n",
    "DNT: 1\n",
    "Connection: keep-alive\n",
    "Cookie: fbcity=2; zl=en; fbtrack=eeca49e31c6b8e95478f7c58bdaba30a; dpr=1; G_ENABLED_IDPS=google; o2menub=once; PHPSESSID=8725bbaf28e3f72494900d9bcfff35597b443b04; session_id=null; csrf=ec079248a06e321a515a1df4f505a652; ak_bmsc=D033BAE9CFBA52944A4870A67FC05CDE737002A2553C00009F58445CE11C3458~plBMlXFNwHWfKAoYLODvj6TZ/Z2SHHNL2gNxtq3j1Yhnzxq1dANcxtkMK+0yQaXm8Me4mRxBvsLWJ+HdxhHNcL+bKFagsvaDeWcfcE8rZnUgzIzdhOvric7XavLTSACWY5+0I4lJqtrKrcbVoWm0g2hjGvlLTzqdYny5e72wvQu8liHPJ1HHVQE8cUtRt2dRDO5V67hVoPCdiS9zsNJoQ7kr5oixyaG6+Dqke6eHFcMgQ=; bm_sv=B7AF0848E1E49D79D3C3F06F483116B5~d30ph/ijHuWIFh36Scln38hb3DUPe+vfJEJKJzql2xdjNofIkkePFFiWd1q+FDSiHw5XH8midC2KMdXaiOXKbWNHlUwTJC8Bm1m2S1TfAhrQa3zZiOo+xckqkriF8B/pHg0nnHg/LrfO8dLYUtePRoiFx00iASTSWe5BRJ5QW4U=\n",
    "Upgrade-Insecure-Requests: 1\n",
    "Cache-Control: max-age=0"
   ]
  },
  {
   "cell_type": "code",
   "execution_count": 15,
   "metadata": {
    "scrolled": true
   },
   "outputs": [
    {
     "name": "stderr",
     "output_type": "stream",
     "text": [
      "Page [268] scraped!: 100%|███████████████████████████████████████████████████████████| 268/268 [06:30<00:00,  1.40s/it]\n"
     ]
    }
   ],
   "source": [
    "rest_urls = []\n",
    "pbar = tqdm(range(1, 269))\n",
    "for i in pbar:\n",
    "    # Downloading page containing list of restaurants\n",
    "    page = requests.get(f'{root_url}?page={i}', headers=headers)\n",
    "    \n",
    "    # Cooking a soup for easy digestion\n",
    "    soup = BeautifulSoup(page.text, 'html.parser')\n",
    "    \n",
    "    # Extracting a list of all restaurants\n",
    "    res = soup.find_all('div', attrs={'class': 'search_left_featured clearfix'})\n",
    "    \n",
    "    for entry in res:\n",
    "        # Only storing the URL of the restaurant\n",
    "        url = entry.find('a').get('href')\n",
    "        \n",
    "        # Replacing /info with /reviews so as to navigate to the reviews directly\n",
    "        rest_urls.append(url.replace('/info', '/reviews'))\n",
    "    pbar.set_description(f'Page [{i}] scraped!')"
   ]
  },
  {
   "cell_type": "code",
   "execution_count": 19,
   "metadata": {},
   "outputs": [
    {
     "name": "stdout",
     "output_type": "stream",
     "text": [
      "Number of urls captured : 4005\n",
      "Printing few urls :\n",
      "https://www.zomato.com/kolkata/the-saffron-tree-southern-avenue/reviews\n",
      "https://www.zomato.com/kolkata/spice-kraft-ballygunge/reviews\n",
      "https://www.zomato.com/kolkata/peter-cat-park-street-area/reviews\n",
      "https://www.zomato.com/kolkata/barbeque-nation-sector-5-salt-lake/reviews\n",
      "https://www.zomato.com/kolkata/whats-up-southern-avenue/reviews\n",
      "https://www.zomato.com/kolkata/jw-kitchen-jw-marriott-hotel-kolkata-science-city-area/reviews\n",
      "https://www.zomato.com/kolkata/barbq-park-street-area/reviews\n",
      "https://www.zomato.com/kolkata/ozora-kasba/reviews\n",
      "https://www.zomato.com/kolkata/carpe-diem-2-park-street-area/reviews\n",
      "https://www.zomato.com/kolkata/capella-altair-boutique-hotel-sector-5-salt-lake/reviews\n"
     ]
    }
   ],
   "source": [
    "print(f'Number of urls captured : {len(rest_urls)}')\n",
    "print('Printing few urls :')\n",
    "for i in rest_urls[:10]:\n",
    "    print(i)"
   ]
  },
  {
   "cell_type": "markdown",
   "metadata": {},
   "source": [
    "## Scraping reviews and corresponding ratings"
   ]
  },
  {
   "cell_type": "code",
   "execution_count": 20,
   "metadata": {
    "scrolled": true
   },
   "outputs": [
    {
     "name": "stderr",
     "output_type": "stream",
     "text": [
      "                                                                                                                                                               \r"
     ]
    },
    {
     "name": "stdout",
     "output_type": "stream",
     "text": [
      "Failed to retrieve url: https://www.zomato.com/kolkata/dakshinayan-restaurant-joka/reviews\n"
     ]
    },
    {
     "name": "stderr",
     "output_type": "stream",
     "text": [
      "Fetching https://www.zomato.com/kolkata/taste-of-south-indian-ballygunge/reviews: 100%|█| 4005/4005 [1:04:18<00:00,  1.30it/s]                         \n"
     ]
    }
   ],
   "source": [
    "texts = []\n",
    "labels = []\n",
    "pbar = tqdm(rest_urls)\n",
    "for url in pbar:\n",
    "    try:\n",
    "        # A little verbosity doesn't hurt\n",
    "        pbar.set_description(f'Fetching {url}')\n",
    "        \n",
    "        # Downloading the restaurant page\n",
    "        page = requests.get(url, headers=headers)\n",
    "        \n",
    "        # Cooking a soup\n",
    "        page = BeautifulSoup(page.text, 'html.parser')\n",
    "        \n",
    "        # Looking for reviews\n",
    "        reviews = page.find_all('div', attrs={'class': 'rev-text mbot0 '})\n",
    "        \n",
    "        for review in reviews:\n",
    "            # Extracting the label\n",
    "            label = float(review.find('div')['aria-label'][-3:])\n",
    "            \n",
    "            # Clearing out some junk\n",
    "            review.find('div').decompose()\n",
    "            \n",
    "            # Extracting the text\n",
    "            text = review.text.strip()\n",
    "\n",
    "            # Storing our treasures\n",
    "            labels.append(label)\n",
    "            texts.append(text)\n",
    "            \n",
    "    except KeyboardInterrupt:\n",
    "        # Manually breaking the loop\n",
    "        break   \n",
    "    except:\n",
    "        # Something went wrong so ...\n",
    "        # Skipping the current url :)\n",
    "        pbar.write(f'Failed to retrieve url: {url}')\n",
    "\n",
    "# Making a pandas DataFrame from our data\n",
    "data = pd.DataFrame()\n",
    "data['text'] = texts\n",
    "data['label'] = labels"
   ]
  },
  {
   "cell_type": "markdown",
   "metadata": {},
   "source": [
    "\n",
    "## Glimpse of the data"
   ]
  },
  {
   "cell_type": "code",
   "execution_count": 23,
   "metadata": {},
   "outputs": [
    {
     "data": {
      "text/html": [
       "<div>\n",
       "<style scoped>\n",
       "    .dataframe tbody tr th:only-of-type {\n",
       "        vertical-align: middle;\n",
       "    }\n",
       "\n",
       "    .dataframe tbody tr th {\n",
       "        vertical-align: top;\n",
       "    }\n",
       "\n",
       "    .dataframe thead th {\n",
       "        text-align: right;\n",
       "    }\n",
       "</style>\n",
       "<table border=\"1\" class=\"dataframe\">\n",
       "  <thead>\n",
       "    <tr style=\"text-align: right;\">\n",
       "      <th></th>\n",
       "      <th>text</th>\n",
       "      <th>label</th>\n",
       "    </tr>\n",
       "  </thead>\n",
       "  <tbody>\n",
       "    <tr>\n",
       "      <th>0</th>\n",
       "      <td>We visited this restaurant on my birthday for ...</td>\n",
       "      <td>5.0</td>\n",
       "    </tr>\n",
       "    <tr>\n",
       "      <th>1</th>\n",
       "      <td>Finally got the chance to visit this place. He...</td>\n",
       "      <td>5.0</td>\n",
       "    </tr>\n",
       "    <tr>\n",
       "      <th>2</th>\n",
       "      <td>So, this is another famous place in Southern A...</td>\n",
       "      <td>5.0</td>\n",
       "    </tr>\n",
       "    <tr>\n",
       "      <th>3</th>\n",
       "      <td>A delight for all mughlai lovers. Went there f...</td>\n",
       "      <td>5.0</td>\n",
       "    </tr>\n",
       "    <tr>\n",
       "      <th>4</th>\n",
       "      <td>Well, The Saffron Tree has now become my one o...</td>\n",
       "      <td>5.0</td>\n",
       "    </tr>\n",
       "  </tbody>\n",
       "</table>\n",
       "</div>"
      ],
      "text/plain": [
       "                                                text  label\n",
       "0  We visited this restaurant on my birthday for ...    5.0\n",
       "1  Finally got the chance to visit this place. He...    5.0\n",
       "2  So, this is another famous place in Southern A...    5.0\n",
       "3  A delight for all mughlai lovers. Went there f...    5.0\n",
       "4  Well, The Saffron Tree has now become my one o...    5.0"
      ]
     },
     "execution_count": 23,
     "metadata": {},
     "output_type": "execute_result"
    }
   ],
   "source": [
    "data.head()"
   ]
  },
  {
   "cell_type": "code",
   "execution_count": 24,
   "metadata": {},
   "outputs": [
    {
     "data": {
      "text/plain": [
       "(16910, 2)"
      ]
     },
     "execution_count": 24,
     "metadata": {},
     "output_type": "execute_result"
    }
   ],
   "source": [
    "data.shape"
   ]
  },
  {
   "cell_type": "markdown",
   "metadata": {},
   "source": [
    "## Saving the data to disk"
   ]
  },
  {
   "cell_type": "code",
   "execution_count": 25,
   "metadata": {},
   "outputs": [],
   "source": [
    "data.to_csv('data/reviews_2.csv', index=False)"
   ]
  },
  {
   "cell_type": "code",
   "execution_count": null,
   "metadata": {},
   "outputs": [],
   "source": []
  }
 ],
 "metadata": {
  "kernelspec": {
   "display_name": "Python 3",
   "language": "python",
   "name": "python3"
  },
  "language_info": {
   "codemirror_mode": {
    "name": "ipython",
    "version": 3
   },
   "file_extension": ".py",
   "mimetype": "text/x-python",
   "name": "python",
   "nbconvert_exporter": "python",
   "pygments_lexer": "ipython3",
   "version": "3.7.2"
  }
 },
 "nbformat": 4,
 "nbformat_minor": 2
}
